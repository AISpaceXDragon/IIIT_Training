{
  "nbformat": 4,
  "nbformat_minor": 0,
  "metadata": {
    "colab": {
      "provenance": [],
      "include_colab_link": true
    },
    "kernelspec": {
      "name": "python3",
      "display_name": "Python 3"
    },
    "language_info": {
      "name": "python"
    }
  },
  "cells": [
    {
      "cell_type": "markdown",
      "metadata": {
        "id": "view-in-github",
        "colab_type": "text"
      },
      "source": [
        "<a href=\"https://colab.research.google.com/github/AISpaceXDragon/IIIT_Training/blob/main/Copy_of_AIML_Module_1_Lab_3_Data_Augmentation.ipynb\" target=\"_parent\"><img src=\"https://colab.research.google.com/assets/colab-badge.svg\" alt=\"Open In Colab\"/></a>"
      ]
    },
    {
      "cell_type": "markdown",
      "metadata": {
        "id": "w3yfry25JgZK"
      },
      "source": [
        "# Data augmentation\n",
        "\n",
        " In this lab, we will see how augmentation of data samples help in improving the machine learning performance"
      ]
    },
    {
      "cell_type": "code",
      "metadata": {
        "id": "xZU8_elooqP0"
      },
      "source": [
        "import numpy as np\n",
        "import matplotlib.pyplot as plt\n",
        "from keras.datasets import mnist\n",
        "# set randomseed\n",
        "rng = np.random.default_rng(seed=42)\n",
        "from sklearn.utils.extmath import cartesian\n",
        "from skimage.transform import rotate, AffineTransform, warp\n",
        "import math"
      ],
      "execution_count": 3,
      "outputs": []
    },
    {
      "cell_type": "markdown",
      "metadata": {
        "id": "T5pHYogSMHiE"
      },
      "source": [
        "Augmentation is useful when we have less training data available. Augmentation allows us to 'create' a larger dataset programatically.\n",
        "\n",
        "For this lab we will use a subset of MNIST that is very small, to better understand the effect of augmentation."
      ]
    },
    {
      "cell_type": "code",
      "metadata": {
        "id": "gJvmWJ58ovx5",
        "colab": {
          "base_uri": "https://localhost:8080/"
        },
        "outputId": "c3d9b1e6-e4a4-4886-a2e1-e58ccb13872b"
      },
      "source": [
        "#loading the dataset\n",
        "(train_X, train_y), (test_X, test_y) = mnist.load_data()\n",
        "train_X = train_X/255\n",
        "test_X = test_X/255\n",
        "\n",
        "train_X = train_X[::1200,:,:].copy() # subsample. Otherwise it will take too long!\n",
        "train_y = train_y[::1200].copy() # do the same to the labels"
      ],
      "execution_count": 4,
      "outputs": [
        {
          "output_type": "stream",
          "name": "stdout",
          "text": [
            "Downloading data from https://storage.googleapis.com/tensorflow/tf-keras-datasets/mnist.npz\n",
            "11490434/11490434 [==============================] - 0s 0us/step\n"
          ]
        }
      ]
    },
    {
      "cell_type": "markdown",
      "metadata": {
        "id": "8XamH6z1Rt7S"
      },
      "source": [
        "Let us borrow a few functions from the previous labs:"
      ]
    },
    {
      "cell_type": "code",
      "metadata": {
        "id": "Zk2W5_3BRLMS"
      },
      "source": [
        "def NN1(traindata, trainlabel, query):\n",
        "  diff  = traindata - query  # find the difference between features. Numpy automatically takes care of the size here\n",
        "  sq = diff*diff # square the differences\n",
        "  dist = sq.sum(1) # add up the squares\n",
        "  label = trainlabel[np.argmin(dist)] # our predicted label is the label of the training data which has the least distance from the query\n",
        "  return label\n",
        "\n",
        "def NN(traindata, trainlabel, testdata):\n",
        "  # we will run nearest neighbour for each sample in the test data\n",
        "  # and collect the predicted classes in an array using list comprehension\n",
        "  traindata = traindata.reshape(-1, 28*28)\n",
        "  testdata = testdata.reshape(-1,28*28)\n",
        "  predlabel = np.array([NN1(traindata, trainlabel, i) for i in testdata])\n",
        "  return predlabel\n",
        "\n",
        "def Accuracy(gtlabel, predlabel):\n",
        "  assert len(gtlabel)==len(predlabel), \"Length of the groundtruth labels and predicted labels should be the same\"\n",
        "  correct = (gtlabel==predlabel).sum() # count the number of times the groundtruth label is equal to the predicted label.\n",
        "  return correct/len(gtlabel)"
      ],
      "execution_count": 5,
      "outputs": []
    },
    {
      "cell_type": "markdown",
      "metadata": {
        "id": "eGiA3LmDSJZo"
      },
      "source": [
        "In this lab, we will use the image pixels themselves as features, instead of extracting features. Each image has 28*28 pixels, so we will flatten them to 784 pixels to use as features. Note that this is very compute intensive and will take a long time.<br>\n",
        "\n",
        "Let us check the baseline accuracy on the test set without any augmentations. We hope that adding augmentations will help us to get better results."
      ]
    },
    {
      "cell_type": "code",
      "metadata": {
        "id": "4tQvnoasRNEV",
        "colab": {
          "base_uri": "https://localhost:8080/"
        },
        "outputId": "c18ccbc9-db6e-4144-e524-11160a99d782"
      },
      "source": [
        "testpred = NN(train_X, train_y, test_X)\n",
        "print('Baseline accuracy without augmentation is ', Accuracy(test_y, testpred))"
      ],
      "execution_count": 6,
      "outputs": [
        {
          "output_type": "stream",
          "name": "stdout",
          "text": [
            "Baseline accuracy without augmentation is  0.6472\n"
          ]
        }
      ]
    },
    {
      "cell_type": "markdown",
      "metadata": {
        "id": "ZfkcMfhIZQ7U"
      },
      "source": [
        "Let us try to improve this accuracy using augmentations. When we create augmentations, we have to make sure that the changes reflect what will naturally occur in the dataset. For example, we should not add colour to our samples as an augmentation because they do not naturally occur. We should not also flip the images in MNIST, because flipped images have different meanings for digits.\n",
        "\n",
        "### Augmentation 1: rotation\n",
        "\n",
        "Let us try rotating the image a little. We will use skimage library for this."
      ]
    },
    {
      "cell_type": "code",
      "metadata": {
        "id": "z5WolJ9fZE7L",
        "colab": {
          "base_uri": "https://localhost:8080/",
          "height": 860
        },
        "outputId": "cd141af8-82ff-4aae-8677-63858fe765ad"
      },
      "source": [
        "plt.imshow(train_X[2], cmap='gray')\n",
        "plt.show()\n",
        "plt.imshow(rotate(train_X[2],25), cmap='gray')"
      ],
      "execution_count": 7,
      "outputs": [
        {
          "output_type": "display_data",
          "data": {
            "text/plain": [
              "<Figure size 640x480 with 1 Axes>"
            ],
            "image/png": "[encoded data removed]"
          },
          "metadata": {}
        },
        {
          "output_type": "execute_result",
          "data": {
            "text/plain": [
              "<matplotlib.image.AxesImage at 0x7b9ce8d78e50>"
            ]
          },
          "metadata": {},
          "execution_count": 7
        },
        {
          "output_type": "display_data",
          "data": {
            "text/plain": [
              "<Figure size 640x480 with 1 Axes>"
            ],
            "image/png": "[encoded data removed]"
          },
          "metadata": {}
        }
      ]
    },
    {
      "cell_type": "markdown",
      "metadata": {
        "id": "KE33Yxgggu0c"
      },
      "source": [
        "After rotating, the the class of the image is still the same. Let us make a function to rotate multiple images by random angles. We want a slightly different image every time we run this function. So, we generate a random number between 0 and 1 and change it so that it lies between -constraint/2 and +constraint/2"
      ]
    },
    {
      "cell_type": "code",
      "metadata": {
        "id": "vyM7pUV7Reze"
      },
      "source": [
        "def augRotate(sample, angleconstraint):\n",
        "  if angleconstraint==0:\n",
        "    return sample\n",
        "  if len(sample.shape)==2:\n",
        "    sample = np.expand_dims(sample, 0)  # make sure the sample is 3 dimensional\n",
        "  angle = rng.random(len(sample)) # generate random numbers for angles\n",
        "  angle = (angle-0.5)*angleconstraint # make the random angle constrained\n",
        "  nsample = sample.copy() # preallocate the augmented array to make it faster\n",
        "  for ii in range(len(sample)):\n",
        "    nsample[ii] = rotate(sample[ii], angle[ii])\n",
        "  return np.squeeze(nsample) # take care if the input had only one sample."
      ],
      "execution_count": 8,
      "outputs": []
    },
    {
      "cell_type": "markdown",
      "metadata": {
        "id": "kDk-N5VNjar9"
      },
      "source": [
        "This function returns a slightly different image each time we call it. So we can increase the number of images in the sample by any multiple."
      ]
    },
    {
      "cell_type": "code",
      "metadata": {
        "id": "Vw3O9zGFgI8K",
        "colab": {
          "base_uri": "https://localhost:8080/",
          "height": 639
        },
        "outputId": "86244067-ae4d-4d95-9244-546b1afc5de1"
      },
      "source": [
        "sample = train_X[20]\n",
        "angleconstraint = 70\n",
        "# show the original image\n",
        "plt.imshow(sample, cmap='gray')\n",
        "plt.show()\n",
        "plt.subplot(1,3,1)\n",
        "plt.imshow(augRotate(sample, angleconstraint), cmap='gray') # show an augmented image\n",
        "plt.subplot(1,3,2)\n",
        "plt.imshow(augRotate(sample, angleconstraint), cmap='gray') # show another augmented image from the same sample\n",
        "plt.subplot(1,3,3)\n",
        "plt.imshow(augRotate(sample, angleconstraint), cmap='gray') # one more image from the same sample"
      ],
      "execution_count": 9,
      "outputs": [
        {
          "output_type": "display_data",
          "data": {
            "text/plain": [
              "<Figure size 640x480 with 1 Axes>"
            ],
            "image/png": "[encoded data removed]"
          },
          "metadata": {}
        },
        {
          "output_type": "execute_result",
          "data": {
            "text/plain": [
              "<matplotlib.image.AxesImage at 0x7b9ce8e03e80>"
            ]
          },
          "metadata": {},
          "execution_count": 9
        },
        {
          "output_type": "display_data",
          "data": {
            "text/plain": [
              "<Figure size 640x480 with 3 Axes>"
            ],
            "image/png": "[encoded data removed]"
          },
          "metadata": {}
        }
      ]
    },
    {
      "cell_type": "markdown",
      "metadata": {
        "id": "ytv3NxF-kgxN"
      },
      "source": [
        "Let us augment the whole dataset and see if this improves the test accuracy"
      ]
    },
    {
      "cell_type": "code",
      "metadata": {
        "id": "iNzNAoDBkRzj",
        "colab": {
          "base_uri": "https://localhost:8080/"
        },
        "outputId": "42cc9c3e-3125-481a-b3b2-48af908dc69b"
      },
      "source": [
        "# hyperparameters\n",
        "angleconstraint = 60\n",
        "naugmentations = 5\n",
        "\n",
        "# augment\n",
        "augdata = train_X # we include the original images also in the augmented dataset\n",
        "auglabel = train_y\n",
        "for ii in range(naugmentations):\n",
        "  augdata = np.concatenate((augdata, augRotate(train_X, angleconstraint))) # concatenate the augmented data to the set\n",
        "  auglabel = np.concatenate((auglabel, train_y))  # the labels don't change when we augment\n",
        "\n",
        "# check the test accuracy\n",
        "testpred = NN(augdata, auglabel, test_X)\n",
        "print('Accuracy after rotation augmentation is ', Accuracy(test_y, testpred))"
      ],
      "execution_count": 10,
      "outputs": [
        {
          "output_type": "stream",
          "name": "stdout",
          "text": [
            "Accuracy after rotation augmentation is  0.6616\n"
          ]
        }
      ]
    },
    {
      "cell_type": "markdown",
      "metadata": {
        "id": "E88Nt9s1p5R6"
      },
      "source": [
        "The angle constraint is a hyperparameter which we have to tune using a validation set. (Here we are not doing that for time constraints). Let us try a grid search to find the best angle constraint."
      ]
    },
    {
      "cell_type": "code",
      "metadata": {
        "id": "aiaFRLREmGp6",
        "colab": {
          "base_uri": "https://localhost:8080/"
        },
        "outputId": "7055e258-24e3-4b8e-9c5d-3daa9d3961ea"
      },
      "source": [
        "angleconstraints = [x/100 for x in range(2000,3000)] # the values we want to test\n",
        "accuracies = np.zeros(len(angleconstraints), dtype=np.float) # we will save the values here\n",
        "\n",
        "for ii in range(len(angleconstraints)):\n",
        "  # create the augmented dataset\n",
        "  augdata = train_X # we include the original images also in the augmented dataset\n",
        "  auglabel = train_y\n",
        "  for jj in range(naugmentations):\n",
        "    augdata = np.concatenate((augdata, augRotate(train_X, angleconstraints[ii]))) # concatenate the augmented data to the set\n",
        "    auglabel = np.concatenate((auglabel, train_y))  # the labels don't change when we augment\n",
        "\n",
        "  # check the test accuracy\n",
        "  testpred = NN(augdata, auglabel, test_X)\n",
        "  accuracies[ii] = Accuracy(test_y, testpred)\n",
        "  print('Accuracy after rotation augmentation constrained by ',angleconstraints[ii], ' is ', accuracies[ii], flush=True)"
      ],
      "execution_count": null,
      "outputs": [
        {
          "output_type": "stream",
          "name": "stderr",
          "text": [
            "<ipython-input-11-82f1389efa6a>:2: DeprecationWarning: `np.float` is a deprecated alias for the builtin `float`. To silence this warning, use `float` by itself. Doing this will not modify any behavior and is safe. If you specifically wanted the numpy scalar type, use `np.float64` here.\n",
            "Deprecated in NumPy 1.20; for more details and guidance: https://numpy.org/devdocs/release/1.20.0-notes.html#deprecations\n",
            "  accuracies = np.zeros(len(angleconstraints), dtype=np.float) # we will save the values here\n"
          ]
        },
        {
          "output_type": "stream",
          "name": "stdout",
          "text": [
            "Accuracy after rotation augmentation constrained by  20.0  is  0.6797\n",
            "Accuracy after rotation augmentation constrained by  20.01  is  0.673\n",
            "Accuracy after rotation augmentation constrained by  20.02  is  0.6717\n",
            "Accuracy after rotation augmentation constrained by  20.03  is  0.6774\n",
            "Accuracy after rotation augmentation constrained by  20.04  is  0.6809\n",
            "Accuracy after rotation augmentation constrained by  20.05  is  0.6812\n",
            "Accuracy after rotation augmentation constrained by  20.06  is  0.6795\n",
            "Accuracy after rotation augmentation constrained by  20.07  is  0.6765\n",
            "Accuracy after rotation augmentation constrained by  20.08  is  0.6707\n",
            "Accuracy after rotation augmentation constrained by  20.09  is  0.6599\n",
            "Accuracy after rotation augmentation constrained by  20.1  is  0.68\n",
            "Accuracy after rotation augmentation constrained by  20.11  is  0.6711\n",
            "Accuracy after rotation augmentation constrained by  20.12  is  0.6804\n",
            "Accuracy after rotation augmentation constrained by  20.13  is  0.6738\n",
            "Accuracy after rotation augmentation constrained by  20.14  is  0.6773\n",
            "Accuracy after rotation augmentation constrained by  20.15  is  0.6824\n",
            "Accuracy after rotation augmentation constrained by  20.16  is  0.6782\n",
            "Accuracy after rotation augmentation constrained by  20.17  is  0.669\n",
            "Accuracy after rotation augmentation constrained by  20.18  is  0.6626\n",
            "Accuracy after rotation augmentation constrained by  20.19  is  0.6684\n",
            "Accuracy after rotation augmentation constrained by  20.2  is  0.682\n",
            "Accuracy after rotation augmentation constrained by  20.21  is  0.6729\n",
            "Accuracy after rotation augmentation constrained by  20.22  is  0.6804\n",
            "Accuracy after rotation augmentation constrained by  20.23  is  0.6847\n",
            "Accuracy after rotation augmentation constrained by  20.24  is  0.6775\n",
            "Accuracy after rotation augmentation constrained by  20.25  is  0.673\n",
            "Accuracy after rotation augmentation constrained by  20.26  is  0.6762\n",
            "Accuracy after rotation augmentation constrained by  20.27  is  0.6834\n",
            "Accuracy after rotation augmentation constrained by  20.28  is  0.6739\n",
            "Accuracy after rotation augmentation constrained by  20.29  is  0.6842\n",
            "Accuracy after rotation augmentation constrained by  20.3  is  0.6803\n",
            "Accuracy after rotation augmentation constrained by  20.31  is  0.6766\n",
            "Accuracy after rotation augmentation constrained by  20.32  is  0.6765\n",
            "Accuracy after rotation augmentation constrained by  20.33  is  0.6772\n",
            "Accuracy after rotation augmentation constrained by  20.34  is  0.6699\n",
            "Accuracy after rotation augmentation constrained by  20.35  is  0.6822\n",
            "Accuracy after rotation augmentation constrained by  20.36  is  0.6865\n",
            "Accuracy after rotation augmentation constrained by  20.37  is  0.6678\n",
            "Accuracy after rotation augmentation constrained by  20.38  is  0.6767\n",
            "Accuracy after rotation augmentation constrained by  20.39  is  0.6833\n",
            "Accuracy after rotation augmentation constrained by  20.4  is  0.6777\n",
            "Accuracy after rotation augmentation constrained by  20.41  is  0.6797\n",
            "Accuracy after rotation augmentation constrained by  20.42  is  0.6794\n",
            "Accuracy after rotation augmentation constrained by  20.43  is  0.6879\n",
            "Accuracy after rotation augmentation constrained by  20.44  is  0.6764\n",
            "Accuracy after rotation augmentation constrained by  20.45  is  0.6831\n",
            "Accuracy after rotation augmentation constrained by  20.46  is  0.6679\n",
            "Accuracy after rotation augmentation constrained by  20.47  is  0.6713\n",
            "Accuracy after rotation augmentation constrained by  20.48  is  0.6781\n",
            "Accuracy after rotation augmentation constrained by  20.49  is  0.6791\n",
            "Accuracy after rotation augmentation constrained by  20.5  is  0.6794\n",
            "Accuracy after rotation augmentation constrained by  20.51  is  0.675\n",
            "Accuracy after rotation augmentation constrained by  20.52  is  0.6757\n",
            "Accuracy after rotation augmentation constrained by  20.53  is  0.685\n",
            "Accuracy after rotation augmentation constrained by  20.54  is  0.6708\n",
            "Accuracy after rotation augmentation constrained by  20.55  is  0.6715\n",
            "Accuracy after rotation augmentation constrained by  20.56  is  0.684\n",
            "Accuracy after rotation augmentation constrained by  20.57  is  0.6814\n",
            "Accuracy after rotation augmentation constrained by  20.58  is  0.669\n",
            "Accuracy after rotation augmentation constrained by  20.59  is  0.6688\n",
            "Accuracy after rotation augmentation constrained by  20.6  is  0.6881\n",
            "Accuracy after rotation augmentation constrained by  20.61  is  0.6764\n",
            "Accuracy after rotation augmentation constrained by  20.62  is  0.6752\n",
            "Accuracy after rotation augmentation constrained by  20.63  is  0.6776\n",
            "Accuracy after rotation augmentation constrained by  20.64  is  0.6654\n",
            "Accuracy after rotation augmentation constrained by  20.65  is  0.6844\n",
            "Accuracy after rotation augmentation constrained by  20.66  is  0.6671\n",
            "Accuracy after rotation augmentation constrained by  20.67  is  0.678\n",
            "Accuracy after rotation augmentation constrained by  20.68  is  0.6744\n",
            "Accuracy after rotation augmentation constrained by  20.69  is  0.6743\n",
            "Accuracy after rotation augmentation constrained by  20.7  is  0.6747\n",
            "Accuracy after rotation augmentation constrained by  20.71  is  0.6771\n",
            "Accuracy after rotation augmentation constrained by  20.72  is  0.6748\n",
            "Accuracy after rotation augmentation constrained by  20.73  is  0.6802\n",
            "Accuracy after rotation augmentation constrained by  20.74  is  0.6788\n",
            "Accuracy after rotation augmentation constrained by  20.75  is  0.6821\n",
            "Accuracy after rotation augmentation constrained by  20.76  is  0.6861\n",
            "Accuracy after rotation augmentation constrained by  20.77  is  0.6756\n",
            "Accuracy after rotation augmentation constrained by  20.78  is  0.6806\n",
            "Accuracy after rotation augmentation constrained by  20.79  is  0.6813\n",
            "Accuracy after rotation augmentation constrained by  20.8  is  0.676\n",
            "Accuracy after rotation augmentation constrained by  20.81  is  0.6691\n",
            "Accuracy after rotation augmentation constrained by  20.82  is  0.6776\n",
            "Accuracy after rotation augmentation constrained by  20.83  is  0.679\n",
            "Accuracy after rotation augmentation constrained by  20.84  is  0.6705\n",
            "Accuracy after rotation augmentation constrained by  20.85  is  0.6703\n",
            "Accuracy after rotation augmentation constrained by  20.86  is  0.6805\n",
            "Accuracy after rotation augmentation constrained by  20.87  is  0.6816\n",
            "Accuracy after rotation augmentation constrained by  20.88  is  0.6698\n",
            "Accuracy after rotation augmentation constrained by  20.89  is  0.6714\n",
            "Accuracy after rotation augmentation constrained by  20.9  is  0.6775\n",
            "Accuracy after rotation augmentation constrained by  20.91  is  0.6669\n",
            "Accuracy after rotation augmentation constrained by  20.92  is  0.6669\n",
            "Accuracy after rotation augmentation constrained by  20.93  is  0.6727\n",
            "Accuracy after rotation augmentation constrained by  20.94  is  0.6708\n",
            "Accuracy after rotation augmentation constrained by  20.95  is  0.686\n",
            "Accuracy after rotation augmentation constrained by  20.96  is  0.68\n",
            "Accuracy after rotation augmentation constrained by  20.97  is  0.6786\n",
            "Accuracy after rotation augmentation constrained by  20.98  is  0.6805\n",
            "Accuracy after rotation augmentation constrained by  20.99  is  0.6826\n",
            "Accuracy after rotation augmentation constrained by  21.0  is  0.6832\n",
            "Accuracy after rotation augmentation constrained by  21.01  is  0.678\n",
            "Accuracy after rotation augmentation constrained by  21.02  is  0.6802\n",
            "Accuracy after rotation augmentation constrained by  21.03  is  0.6764\n",
            "Accuracy after rotation augmentation constrained by  21.04  is  0.6853\n",
            "Accuracy after rotation augmentation constrained by  21.05  is  0.6775\n",
            "Accuracy after rotation augmentation constrained by  21.06  is  0.6742\n",
            "Accuracy after rotation augmentation constrained by  21.07  is  0.678\n",
            "Accuracy after rotation augmentation constrained by  21.08  is  0.6823\n",
            "Accuracy after rotation augmentation constrained by  21.09  is  0.6737\n",
            "Accuracy after rotation augmentation constrained by  21.1  is  0.6828\n",
            "Accuracy after rotation augmentation constrained by  21.11  is  0.6759\n",
            "Accuracy after rotation augmentation constrained by  21.12  is  0.6682\n",
            "Accuracy after rotation augmentation constrained by  21.13  is  0.6835\n",
            "Accuracy after rotation augmentation constrained by  21.14  is  0.6708\n",
            "Accuracy after rotation augmentation constrained by  21.15  is  0.6776\n",
            "Accuracy after rotation augmentation constrained by  21.16  is  0.6803\n",
            "Accuracy after rotation augmentation constrained by  21.17  is  0.6767\n",
            "Accuracy after rotation augmentation constrained by  21.18  is  0.6824\n",
            "Accuracy after rotation augmentation constrained by  21.19  is  0.6921\n",
            "Accuracy after rotation augmentation constrained by  21.2  is  0.6831\n",
            "Accuracy after rotation augmentation constrained by  21.21  is  0.6816\n",
            "Accuracy after rotation augmentation constrained by  21.22  is  0.6722\n",
            "Accuracy after rotation augmentation constrained by  21.23  is  0.6769\n",
            "Accuracy after rotation augmentation constrained by  21.24  is  0.6649\n",
            "Accuracy after rotation augmentation constrained by  21.25  is  0.6804\n",
            "Accuracy after rotation augmentation constrained by  21.26  is  0.6845\n",
            "Accuracy after rotation augmentation constrained by  21.27  is  0.6737\n",
            "Accuracy after rotation augmentation constrained by  21.28  is  0.6773\n",
            "Accuracy after rotation augmentation constrained by  21.29  is  0.6857\n",
            "Accuracy after rotation augmentation constrained by  21.3  is  0.6843\n",
            "Accuracy after rotation augmentation constrained by  21.31  is  0.6806\n",
            "Accuracy after rotation augmentation constrained by  21.32  is  0.6749\n",
            "Accuracy after rotation augmentation constrained by  21.33  is  0.6846\n",
            "Accuracy after rotation augmentation constrained by  21.34  is  0.67\n",
            "Accuracy after rotation augmentation constrained by  21.35  is  0.6743\n",
            "Accuracy after rotation augmentation constrained by  21.36  is  0.6759\n",
            "Accuracy after rotation augmentation constrained by  21.37  is  0.6701\n",
            "Accuracy after rotation augmentation constrained by  21.38  is  0.6668\n",
            "Accuracy after rotation augmentation constrained by  21.39  is  0.6763\n",
            "Accuracy after rotation augmentation constrained by  21.4  is  0.6745\n",
            "Accuracy after rotation augmentation constrained by  21.41  is  0.6767\n",
            "Accuracy after rotation augmentation constrained by  21.42  is  0.6794\n",
            "Accuracy after rotation augmentation constrained by  21.43  is  0.6791\n",
            "Accuracy after rotation augmentation constrained by  21.44  is  0.6748\n",
            "Accuracy after rotation augmentation constrained by  21.45  is  0.6759\n",
            "Accuracy after rotation augmentation constrained by  21.46  is  0.675\n",
            "Accuracy after rotation augmentation constrained by  21.47  is  0.6716\n",
            "Accuracy after rotation augmentation constrained by  21.48  is  0.6733\n",
            "Accuracy after rotation augmentation constrained by  21.49  is  0.6646\n",
            "Accuracy after rotation augmentation constrained by  21.5  is  0.676\n",
            "Accuracy after rotation augmentation constrained by  21.51  is  0.6705\n",
            "Accuracy after rotation augmentation constrained by  21.52  is  0.6772\n",
            "Accuracy after rotation augmentation constrained by  21.53  is  0.6727\n",
            "Accuracy after rotation augmentation constrained by  21.54  is  0.6758\n",
            "Accuracy after rotation augmentation constrained by  21.55  is  0.6775\n",
            "Accuracy after rotation augmentation constrained by  21.56  is  0.6844\n",
            "Accuracy after rotation augmentation constrained by  21.57  is  0.672\n",
            "Accuracy after rotation augmentation constrained by  21.58  is  0.6769\n",
            "Accuracy after rotation augmentation constrained by  21.59  is  0.6763\n",
            "Accuracy after rotation augmentation constrained by  21.6  is  0.679\n",
            "Accuracy after rotation augmentation constrained by  21.61  is  0.6772\n",
            "Accuracy after rotation augmentation constrained by  21.62  is  0.6767\n",
            "Accuracy after rotation augmentation constrained by  21.63  is  0.6788\n",
            "Accuracy after rotation augmentation constrained by  21.64  is  0.6635\n",
            "Accuracy after rotation augmentation constrained by  21.65  is  0.6769\n",
            "Accuracy after rotation augmentation constrained by  21.66  is  0.6894\n",
            "Accuracy after rotation augmentation constrained by  21.67  is  0.6774\n",
            "Accuracy after rotation augmentation constrained by  21.68  is  0.6792\n",
            "Accuracy after rotation augmentation constrained by  21.69  is  0.6774\n",
            "Accuracy after rotation augmentation constrained by  21.7  is  0.6819\n",
            "Accuracy after rotation augmentation constrained by  21.71  is  0.6854\n",
            "Accuracy after rotation augmentation constrained by  21.72  is  0.6739\n",
            "Accuracy after rotation augmentation constrained by  21.73  is  0.6705\n",
            "Accuracy after rotation augmentation constrained by  21.74  is  0.6823\n",
            "Accuracy after rotation augmentation constrained by  21.75  is  0.677\n",
            "Accuracy after rotation augmentation constrained by  21.76  is  0.6728\n",
            "Accuracy after rotation augmentation constrained by  21.77  is  0.6797\n",
            "Accuracy after rotation augmentation constrained by  21.78  is  0.6815\n",
            "Accuracy after rotation augmentation constrained by  21.79  is  0.6836\n",
            "Accuracy after rotation augmentation constrained by  21.8  is  0.6775\n",
            "Accuracy after rotation augmentation constrained by  21.81  is  0.6782\n",
            "Accuracy after rotation augmentation constrained by  21.82  is  0.6789\n",
            "Accuracy after rotation augmentation constrained by  21.83  is  0.6865\n",
            "Accuracy after rotation augmentation constrained by  21.84  is  0.6791\n",
            "Accuracy after rotation augmentation constrained by  21.85  is  0.6675\n",
            "Accuracy after rotation augmentation constrained by  21.86  is  0.6775\n",
            "Accuracy after rotation augmentation constrained by  21.87  is  0.6808\n",
            "Accuracy after rotation augmentation constrained by  21.88  is  0.682\n",
            "Accuracy after rotation augmentation constrained by  21.89  is  0.673\n",
            "Accuracy after rotation augmentation constrained by  21.9  is  0.6861\n",
            "Accuracy after rotation augmentation constrained by  21.91  is  0.6724\n",
            "Accuracy after rotation augmentation constrained by  21.92  is  0.6749\n",
            "Accuracy after rotation augmentation constrained by  21.93  is  0.674\n",
            "Accuracy after rotation augmentation constrained by  21.94  is  0.684\n",
            "Accuracy after rotation augmentation constrained by  21.95  is  0.6811\n",
            "Accuracy after rotation augmentation constrained by  21.96  is  0.6845\n",
            "Accuracy after rotation augmentation constrained by  21.97  is  0.6733\n",
            "Accuracy after rotation augmentation constrained by  21.98  is  0.6756\n",
            "Accuracy after rotation augmentation constrained by  21.99  is  0.6785\n",
            "Accuracy after rotation augmentation constrained by  22.0  is  0.6797\n",
            "Accuracy after rotation augmentation constrained by  22.01  is  0.6811\n",
            "Accuracy after rotation augmentation constrained by  22.02  is  0.6727\n",
            "Accuracy after rotation augmentation constrained by  22.03  is  0.6816\n",
            "Accuracy after rotation augmentation constrained by  22.04  is  0.6786\n",
            "Accuracy after rotation augmentation constrained by  22.05  is  0.6782\n",
            "Accuracy after rotation augmentation constrained by  22.06  is  0.6819\n",
            "Accuracy after rotation augmentation constrained by  22.07  is  0.68\n",
            "Accuracy after rotation augmentation constrained by  22.08  is  0.679\n",
            "Accuracy after rotation augmentation constrained by  22.09  is  0.6773\n",
            "Accuracy after rotation augmentation constrained by  22.1  is  0.6785\n",
            "Accuracy after rotation augmentation constrained by  22.11  is  0.6837\n",
            "Accuracy after rotation augmentation constrained by  22.12  is  0.677\n",
            "Accuracy after rotation augmentation constrained by  22.13  is  0.6828\n",
            "Accuracy after rotation augmentation constrained by  22.14  is  0.677\n",
            "Accuracy after rotation augmentation constrained by  22.15  is  0.6875\n",
            "Accuracy after rotation augmentation constrained by  22.16  is  0.6696\n",
            "Accuracy after rotation augmentation constrained by  22.17  is  0.6806\n",
            "Accuracy after rotation augmentation constrained by  22.18  is  0.6752\n",
            "Accuracy after rotation augmentation constrained by  22.19  is  0.6857\n",
            "Accuracy after rotation augmentation constrained by  22.2  is  0.6808\n",
            "Accuracy after rotation augmentation constrained by  22.21  is  0.6859\n",
            "Accuracy after rotation augmentation constrained by  22.22  is  0.6698\n",
            "Accuracy after rotation augmentation constrained by  22.23  is  0.6869\n",
            "Accuracy after rotation augmentation constrained by  22.24  is  0.678\n",
            "Accuracy after rotation augmentation constrained by  22.25  is  0.6822\n",
            "Accuracy after rotation augmentation constrained by  22.26  is  0.6772\n",
            "Accuracy after rotation augmentation constrained by  22.27  is  0.6711\n",
            "Accuracy after rotation augmentation constrained by  22.28  is  0.6771\n",
            "Accuracy after rotation augmentation constrained by  22.29  is  0.6809\n",
            "Accuracy after rotation augmentation constrained by  22.3  is  0.684\n",
            "Accuracy after rotation augmentation constrained by  22.31  is  0.6846\n",
            "Accuracy after rotation augmentation constrained by  22.32  is  0.6855\n",
            "Accuracy after rotation augmentation constrained by  22.33  is  0.6831\n",
            "Accuracy after rotation augmentation constrained by  22.34  is  0.6766\n",
            "Accuracy after rotation augmentation constrained by  22.35  is  0.6789\n",
            "Accuracy after rotation augmentation constrained by  22.36  is  0.679\n",
            "Accuracy after rotation augmentation constrained by  22.37  is  0.6846\n",
            "Accuracy after rotation augmentation constrained by  22.38  is  0.6825\n",
            "Accuracy after rotation augmentation constrained by  22.39  is  0.6722\n",
            "Accuracy after rotation augmentation constrained by  22.4  is  0.6728\n",
            "Accuracy after rotation augmentation constrained by  22.41  is  0.6734\n",
            "Accuracy after rotation augmentation constrained by  22.42  is  0.6825\n",
            "Accuracy after rotation augmentation constrained by  22.43  is  0.6882\n",
            "Accuracy after rotation augmentation constrained by  22.44  is  0.6742\n",
            "Accuracy after rotation augmentation constrained by  22.45  is  0.6797\n",
            "Accuracy after rotation augmentation constrained by  22.46  is  0.6776\n",
            "Accuracy after rotation augmentation constrained by  22.47  is  0.6792\n",
            "Accuracy after rotation augmentation constrained by  22.48  is  0.6774\n",
            "Accuracy after rotation augmentation constrained by  22.49  is  0.6806\n",
            "Accuracy after rotation augmentation constrained by  22.5  is  0.6836\n",
            "Accuracy after rotation augmentation constrained by  22.51  is  0.6767\n",
            "Accuracy after rotation augmentation constrained by  22.52  is  0.6832\n",
            "Accuracy after rotation augmentation constrained by  22.53  is  0.6892\n",
            "Accuracy after rotation augmentation constrained by  22.54  is  0.6848\n",
            "Accuracy after rotation augmentation constrained by  22.55  is  0.6756\n",
            "Accuracy after rotation augmentation constrained by  22.56  is  0.6778\n",
            "Accuracy after rotation augmentation constrained by  22.57  is  0.6794\n",
            "Accuracy after rotation augmentation constrained by  22.58  is  0.6776\n",
            "Accuracy after rotation augmentation constrained by  22.59  is  0.6764\n",
            "Accuracy after rotation augmentation constrained by  22.6  is  0.6743\n",
            "Accuracy after rotation augmentation constrained by  22.61  is  0.6727\n",
            "Accuracy after rotation augmentation constrained by  22.62  is  0.6794\n",
            "Accuracy after rotation augmentation constrained by  22.63  is  0.6824\n",
            "Accuracy after rotation augmentation constrained by  22.64  is  0.6822\n",
            "Accuracy after rotation augmentation constrained by  22.65  is  0.6659\n",
            "Accuracy after rotation augmentation constrained by  22.66  is  0.6704\n",
            "Accuracy after rotation augmentation constrained by  22.67  is  0.6699\n",
            "Accuracy after rotation augmentation constrained by  22.68  is  0.6856\n",
            "Accuracy after rotation augmentation constrained by  22.69  is  0.6733\n",
            "Accuracy after rotation augmentation constrained by  22.7  is  0.6857\n",
            "Accuracy after rotation augmentation constrained by  22.71  is  0.6652\n",
            "Accuracy after rotation augmentation constrained by  22.72  is  0.6786\n",
            "Accuracy after rotation augmentation constrained by  22.73  is  0.6774\n",
            "Accuracy after rotation augmentation constrained by  22.74  is  0.6806\n",
            "Accuracy after rotation augmentation constrained by  22.75  is  0.6768\n",
            "Accuracy after rotation augmentation constrained by  22.76  is  0.6842\n",
            "Accuracy after rotation augmentation constrained by  22.77  is  0.6781\n",
            "Accuracy after rotation augmentation constrained by  22.78  is  0.6767\n",
            "Accuracy after rotation augmentation constrained by  22.79  is  0.6854\n",
            "Accuracy after rotation augmentation constrained by  22.8  is  0.6786\n",
            "Accuracy after rotation augmentation constrained by  22.81  is  0.678\n",
            "Accuracy after rotation augmentation constrained by  22.82  is  0.671\n",
            "Accuracy after rotation augmentation constrained by  22.83  is  0.6791\n",
            "Accuracy after rotation augmentation constrained by  22.84  is  0.6823\n",
            "Accuracy after rotation augmentation constrained by  22.85  is  0.6823\n",
            "Accuracy after rotation augmentation constrained by  22.86  is  0.6832\n",
            "Accuracy after rotation augmentation constrained by  22.87  is  0.6767\n",
            "Accuracy after rotation augmentation constrained by  22.88  is  0.6746\n",
            "Accuracy after rotation augmentation constrained by  22.89  is  0.6774\n",
            "Accuracy after rotation augmentation constrained by  22.9  is  0.6768\n",
            "Accuracy after rotation augmentation constrained by  22.91  is  0.6814\n",
            "Accuracy after rotation augmentation constrained by  22.92  is  0.6772\n",
            "Accuracy after rotation augmentation constrained by  22.93  is  0.6765\n",
            "Accuracy after rotation augmentation constrained by  22.94  is  0.682\n",
            "Accuracy after rotation augmentation constrained by  22.95  is  0.6756\n",
            "Accuracy after rotation augmentation constrained by  22.96  is  0.6763\n",
            "Accuracy after rotation augmentation constrained by  22.97  is  0.6764\n",
            "Accuracy after rotation augmentation constrained by  22.98  is  0.6816\n",
            "Accuracy after rotation augmentation constrained by  22.99  is  0.6879\n",
            "Accuracy after rotation augmentation constrained by  23.0  is  0.6737\n",
            "Accuracy after rotation augmentation constrained by  23.01  is  0.6786\n",
            "Accuracy after rotation augmentation constrained by  23.02  is  0.6786\n",
            "Accuracy after rotation augmentation constrained by  23.03  is  0.6686\n",
            "Accuracy after rotation augmentation constrained by  23.04  is  0.6821\n",
            "Accuracy after rotation augmentation constrained by  23.05  is  0.6803\n",
            "Accuracy after rotation augmentation constrained by  23.06  is  0.6832\n",
            "Accuracy after rotation augmentation constrained by  23.07  is  0.6753\n",
            "Accuracy after rotation augmentation constrained by  23.08  is  0.6749\n",
            "Accuracy after rotation augmentation constrained by  23.09  is  0.6709\n",
            "Accuracy after rotation augmentation constrained by  23.1  is  0.6811\n",
            "Accuracy after rotation augmentation constrained by  23.11  is  0.6798\n",
            "Accuracy after rotation augmentation constrained by  23.12  is  0.6773\n",
            "Accuracy after rotation augmentation constrained by  23.13  is  0.6815\n",
            "Accuracy after rotation augmentation constrained by  23.14  is  0.6776\n",
            "Accuracy after rotation augmentation constrained by  23.15  is  0.6799\n",
            "Accuracy after rotation augmentation constrained by  23.16  is  0.6805\n",
            "Accuracy after rotation augmentation constrained by  23.17  is  0.6747\n",
            "Accuracy after rotation augmentation constrained by  23.18  is  0.6764\n",
            "Accuracy after rotation augmentation constrained by  23.19  is  0.6837\n",
            "Accuracy after rotation augmentation constrained by  23.2  is  0.6774\n",
            "Accuracy after rotation augmentation constrained by  23.21  is  0.6773\n",
            "Accuracy after rotation augmentation constrained by  23.22  is  0.6731\n",
            "Accuracy after rotation augmentation constrained by  23.23  is  0.6671\n",
            "Accuracy after rotation augmentation constrained by  23.24  is  0.6826\n",
            "Accuracy after rotation augmentation constrained by  23.25  is  0.672\n",
            "Accuracy after rotation augmentation constrained by  23.26  is  0.6752\n",
            "Accuracy after rotation augmentation constrained by  23.27  is  0.6689\n",
            "Accuracy after rotation augmentation constrained by  23.28  is  0.6803\n",
            "Accuracy after rotation augmentation constrained by  23.29  is  0.675\n",
            "Accuracy after rotation augmentation constrained by  23.3  is  0.6791\n",
            "Accuracy after rotation augmentation constrained by  23.31  is  0.6791\n",
            "Accuracy after rotation augmentation constrained by  23.32  is  0.672\n",
            "Accuracy after rotation augmentation constrained by  23.33  is  0.667\n",
            "Accuracy after rotation augmentation constrained by  23.34  is  0.6825\n",
            "Accuracy after rotation augmentation constrained by  23.35  is  0.6816\n",
            "Accuracy after rotation augmentation constrained by  23.36  is  0.678\n",
            "Accuracy after rotation augmentation constrained by  23.37  is  0.6937\n",
            "Accuracy after rotation augmentation constrained by  23.38  is  0.6784\n",
            "Accuracy after rotation augmentation constrained by  23.39  is  0.6812\n",
            "Accuracy after rotation augmentation constrained by  23.4  is  0.6711\n",
            "Accuracy after rotation augmentation constrained by  23.41  is  0.6772\n",
            "Accuracy after rotation augmentation constrained by  23.42  is  0.6736\n",
            "Accuracy after rotation augmentation constrained by  23.43  is  0.6754\n",
            "Accuracy after rotation augmentation constrained by  23.44  is  0.6734\n",
            "Accuracy after rotation augmentation constrained by  23.45  is  0.6634\n",
            "Accuracy after rotation augmentation constrained by  23.46  is  0.6794\n",
            "Accuracy after rotation augmentation constrained by  23.47  is  0.6837\n",
            "Accuracy after rotation augmentation constrained by  23.48  is  0.6719\n",
            "Accuracy after rotation augmentation constrained by  23.49  is  0.6855\n",
            "Accuracy after rotation augmentation constrained by  23.5  is  0.6809\n",
            "Accuracy after rotation augmentation constrained by  23.51  is  0.6776\n",
            "Accuracy after rotation augmentation constrained by  23.52  is  0.6865\n",
            "Accuracy after rotation augmentation constrained by  23.53  is  0.6787\n",
            "Accuracy after rotation augmentation constrained by  23.54  is  0.6738\n",
            "Accuracy after rotation augmentation constrained by  23.55  is  0.6757\n",
            "Accuracy after rotation augmentation constrained by  23.56  is  0.6759\n",
            "Accuracy after rotation augmentation constrained by  23.57  is  0.6598\n",
            "Accuracy after rotation augmentation constrained by  23.58  is  0.6771\n",
            "Accuracy after rotation augmentation constrained by  23.59  is  0.6786\n",
            "Accuracy after rotation augmentation constrained by  23.6  is  0.6723\n",
            "Accuracy after rotation augmentation constrained by  23.61  is  0.6777\n",
            "Accuracy after rotation augmentation constrained by  23.62  is  0.6856\n",
            "Accuracy after rotation augmentation constrained by  23.63  is  0.6778\n",
            "Accuracy after rotation augmentation constrained by  23.64  is  0.6788\n",
            "Accuracy after rotation augmentation constrained by  23.65  is  0.6832\n",
            "Accuracy after rotation augmentation constrained by  23.66  is  0.6768\n",
            "Accuracy after rotation augmentation constrained by  23.67  is  0.6817\n",
            "Accuracy after rotation augmentation constrained by  23.68  is  0.6735\n",
            "Accuracy after rotation augmentation constrained by  23.69  is  0.6797\n",
            "Accuracy after rotation augmentation constrained by  23.7  is  0.6844\n",
            "Accuracy after rotation augmentation constrained by  23.71  is  0.6768\n",
            "Accuracy after rotation augmentation constrained by  23.72  is  0.6741\n",
            "Accuracy after rotation augmentation constrained by  23.73  is  0.6823\n",
            "Accuracy after rotation augmentation constrained by  23.74  is  0.6795\n",
            "Accuracy after rotation augmentation constrained by  23.75  is  0.6814\n",
            "Accuracy after rotation augmentation constrained by  23.76  is  0.6734\n",
            "Accuracy after rotation augmentation constrained by  23.77  is  0.6859\n",
            "Accuracy after rotation augmentation constrained by  23.78  is  0.6782\n",
            "Accuracy after rotation augmentation constrained by  23.79  is  0.6789\n",
            "Accuracy after rotation augmentation constrained by  23.8  is  0.6853\n",
            "Accuracy after rotation augmentation constrained by  23.81  is  0.6785\n",
            "Accuracy after rotation augmentation constrained by  23.82  is  0.6798\n",
            "Accuracy after rotation augmentation constrained by  23.83  is  0.6764\n",
            "Accuracy after rotation augmentation constrained by  23.84  is  0.6846\n",
            "Accuracy after rotation augmentation constrained by  23.85  is  0.6715\n",
            "Accuracy after rotation augmentation constrained by  23.86  is  0.6853\n",
            "Accuracy after rotation augmentation constrained by  23.87  is  0.6725\n",
            "Accuracy after rotation augmentation constrained by  23.88  is  0.6751\n",
            "Accuracy after rotation augmentation constrained by  23.89  is  0.6839\n",
            "Accuracy after rotation augmentation constrained by  23.9  is  0.6808\n",
            "Accuracy after rotation augmentation constrained by  23.91  is  0.6864\n",
            "Accuracy after rotation augmentation constrained by  23.92  is  0.6833\n",
            "Accuracy after rotation augmentation constrained by  23.93  is  0.6667\n",
            "Accuracy after rotation augmentation constrained by  23.94  is  0.6788\n",
            "Accuracy after rotation augmentation constrained by  23.95  is  0.6738\n",
            "Accuracy after rotation augmentation constrained by  23.96  is  0.6766\n",
            "Accuracy after rotation augmentation constrained by  23.97  is  0.6821\n",
            "Accuracy after rotation augmentation constrained by  23.98  is  0.6769\n",
            "Accuracy after rotation augmentation constrained by  23.99  is  0.6698\n",
            "Accuracy after rotation augmentation constrained by  24.0  is  0.6787\n",
            "Accuracy after rotation augmentation constrained by  24.01  is  0.6835\n",
            "Accuracy after rotation augmentation constrained by  24.02  is  0.6752\n",
            "Accuracy after rotation augmentation constrained by  24.03  is  0.6833\n",
            "Accuracy after rotation augmentation constrained by  24.04  is  0.6862\n",
            "Accuracy after rotation augmentation constrained by  24.05  is  0.6748\n",
            "Accuracy after rotation augmentation constrained by  24.06  is  0.6768\n",
            "Accuracy after rotation augmentation constrained by  24.07  is  0.6741\n",
            "Accuracy after rotation augmentation constrained by  24.08  is  0.6769\n",
            "Accuracy after rotation augmentation constrained by  24.09  is  0.6634\n",
            "Accuracy after rotation augmentation constrained by  24.1  is  0.6863\n",
            "Accuracy after rotation augmentation constrained by  24.11  is  0.678\n",
            "Accuracy after rotation augmentation constrained by  24.12  is  0.6766\n",
            "Accuracy after rotation augmentation constrained by  24.13  is  0.6766\n",
            "Accuracy after rotation augmentation constrained by  24.14  is  0.6813\n",
            "Accuracy after rotation augmentation constrained by  24.15  is  0.6802\n",
            "Accuracy after rotation augmentation constrained by  24.16  is  0.6888\n",
            "Accuracy after rotation augmentation constrained by  24.17  is  0.6809\n",
            "Accuracy after rotation augmentation constrained by  24.18  is  0.6877\n",
            "Accuracy after rotation augmentation constrained by  24.19  is  0.6753\n",
            "Accuracy after rotation augmentation constrained by  24.2  is  0.6881\n",
            "Accuracy after rotation augmentation constrained by  24.21  is  0.6741\n",
            "Accuracy after rotation augmentation constrained by  24.22  is  0.6829\n",
            "Accuracy after rotation augmentation constrained by  24.23  is  0.6786\n",
            "Accuracy after rotation augmentation constrained by  24.24  is  0.6737\n",
            "Accuracy after rotation augmentation constrained by  24.25  is  0.6816\n",
            "Accuracy after rotation augmentation constrained by  24.26  is  0.6747\n",
            "Accuracy after rotation augmentation constrained by  24.27  is  0.6751\n",
            "Accuracy after rotation augmentation constrained by  24.28  is  0.6767\n",
            "Accuracy after rotation augmentation constrained by  24.29  is  0.6744\n",
            "Accuracy after rotation augmentation constrained by  24.3  is  0.6671\n",
            "Accuracy after rotation augmentation constrained by  24.31  is  0.678\n",
            "Accuracy after rotation augmentation constrained by  24.32  is  0.6804\n",
            "Accuracy after rotation augmentation constrained by  24.33  is  0.6781\n",
            "Accuracy after rotation augmentation constrained by  24.34  is  0.6751\n",
            "Accuracy after rotation augmentation constrained by  24.35  is  0.6784\n",
            "Accuracy after rotation augmentation constrained by  24.36  is  0.683\n",
            "Accuracy after rotation augmentation constrained by  24.37  is  0.6761\n",
            "Accuracy after rotation augmentation constrained by  24.38  is  0.6857\n",
            "Accuracy after rotation augmentation constrained by  24.39  is  0.6771\n",
            "Accuracy after rotation augmentation constrained by  24.4  is  0.6702\n",
            "Accuracy after rotation augmentation constrained by  24.41  is  0.6817\n",
            "Accuracy after rotation augmentation constrained by  24.42  is  0.669\n",
            "Accuracy after rotation augmentation constrained by  24.43  is  0.6821\n",
            "Accuracy after rotation augmentation constrained by  24.44  is  0.6812\n",
            "Accuracy after rotation augmentation constrained by  24.45  is  0.6784\n",
            "Accuracy after rotation augmentation constrained by  24.46  is  0.6809\n",
            "Accuracy after rotation augmentation constrained by  24.47  is  0.667\n",
            "Accuracy after rotation augmentation constrained by  24.48  is  0.6795\n",
            "Accuracy after rotation augmentation constrained by  24.49  is  0.682\n",
            "Accuracy after rotation augmentation constrained by  24.5  is  0.6893\n",
            "Accuracy after rotation augmentation constrained by  24.51  is  0.6696\n",
            "Accuracy after rotation augmentation constrained by  24.52  is  0.68\n",
            "Accuracy after rotation augmentation constrained by  24.53  is  0.6797\n",
            "Accuracy after rotation augmentation constrained by  24.54  is  0.68\n",
            "Accuracy after rotation augmentation constrained by  24.55  is  0.6846\n",
            "Accuracy after rotation augmentation constrained by  24.56  is  0.6713\n",
            "Accuracy after rotation augmentation constrained by  24.57  is  0.6786\n",
            "Accuracy after rotation augmentation constrained by  24.58  is  0.6831\n",
            "Accuracy after rotation augmentation constrained by  24.59  is  0.678\n",
            "Accuracy after rotation augmentation constrained by  24.6  is  0.678\n",
            "Accuracy after rotation augmentation constrained by  24.61  is  0.6759\n",
            "Accuracy after rotation augmentation constrained by  24.62  is  0.684\n",
            "Accuracy after rotation augmentation constrained by  24.63  is  0.6844\n",
            "Accuracy after rotation augmentation constrained by  24.64  is  0.6818\n",
            "Accuracy after rotation augmentation constrained by  24.65  is  0.6792\n",
            "Accuracy after rotation augmentation constrained by  24.66  is  0.6769\n",
            "Accuracy after rotation augmentation constrained by  24.67  is  0.6822\n",
            "Accuracy after rotation augmentation constrained by  24.68  is  0.6798\n",
            "Accuracy after rotation augmentation constrained by  24.69  is  0.674\n",
            "Accuracy after rotation augmentation constrained by  24.7  is  0.6708\n",
            "Accuracy after rotation augmentation constrained by  24.71  is  0.6846\n",
            "Accuracy after rotation augmentation constrained by  24.72  is  0.673\n",
            "Accuracy after rotation augmentation constrained by  24.73  is  0.682\n",
            "Accuracy after rotation augmentation constrained by  24.74  is  0.6738\n",
            "Accuracy after rotation augmentation constrained by  24.75  is  0.6679\n",
            "Accuracy after rotation augmentation constrained by  24.76  is  0.6763\n",
            "Accuracy after rotation augmentation constrained by  24.77  is  0.6785\n",
            "Accuracy after rotation augmentation constrained by  24.78  is  0.6821\n",
            "Accuracy after rotation augmentation constrained by  24.79  is  0.6639\n",
            "Accuracy after rotation augmentation constrained by  24.8  is  0.6846\n",
            "Accuracy after rotation augmentation constrained by  24.81  is  0.6839\n",
            "Accuracy after rotation augmentation constrained by  24.82  is  0.6793\n",
            "Accuracy after rotation augmentation constrained by  24.83  is  0.6873\n",
            "Accuracy after rotation augmentation constrained by  24.84  is  0.6792\n",
            "Accuracy after rotation augmentation constrained by  24.85  is  0.6743\n",
            "Accuracy after rotation augmentation constrained by  24.86  is  0.6773\n",
            "Accuracy after rotation augmentation constrained by  24.87  is  0.6874\n",
            "Accuracy after rotation augmentation constrained by  24.88  is  0.678\n",
            "Accuracy after rotation augmentation constrained by  24.89  is  0.6782\n",
            "Accuracy after rotation augmentation constrained by  24.9  is  0.6862\n",
            "Accuracy after rotation augmentation constrained by  24.91  is  0.6802\n",
            "Accuracy after rotation augmentation constrained by  24.92  is  0.6627\n",
            "Accuracy after rotation augmentation constrained by  24.93  is  0.672\n",
            "Accuracy after rotation augmentation constrained by  24.94  is  0.6794\n",
            "Accuracy after rotation augmentation constrained by  24.95  is  0.6779\n",
            "Accuracy after rotation augmentation constrained by  24.96  is  0.677\n",
            "Accuracy after rotation augmentation constrained by  24.97  is  0.6856\n",
            "Accuracy after rotation augmentation constrained by  24.98  is  0.6817\n",
            "Accuracy after rotation augmentation constrained by  24.99  is  0.6835\n",
            "Accuracy after rotation augmentation constrained by  25.0  is  0.6788\n",
            "Accuracy after rotation augmentation constrained by  25.01  is  0.68\n",
            "Accuracy after rotation augmentation constrained by  25.02  is  0.6758\n",
            "Accuracy after rotation augmentation constrained by  25.03  is  0.6781\n",
            "Accuracy after rotation augmentation constrained by  25.04  is  0.684\n",
            "Accuracy after rotation augmentation constrained by  25.05  is  0.6747\n",
            "Accuracy after rotation augmentation constrained by  25.06  is  0.6761\n",
            "Accuracy after rotation augmentation constrained by  25.07  is  0.6754\n",
            "Accuracy after rotation augmentation constrained by  25.08  is  0.6833\n",
            "Accuracy after rotation augmentation constrained by  25.09  is  0.6777\n",
            "Accuracy after rotation augmentation constrained by  25.1  is  0.6787\n",
            "Accuracy after rotation augmentation constrained by  25.11  is  0.6712\n",
            "Accuracy after rotation augmentation constrained by  25.12  is  0.6814\n",
            "Accuracy after rotation augmentation constrained by  25.13  is  0.6772\n",
            "Accuracy after rotation augmentation constrained by  25.14  is  0.6811\n",
            "Accuracy after rotation augmentation constrained by  25.15  is  0.6759\n",
            "Accuracy after rotation augmentation constrained by  25.16  is  0.67\n",
            "Accuracy after rotation augmentation constrained by  25.17  is  0.6666\n",
            "Accuracy after rotation augmentation constrained by  25.18  is  0.6814\n",
            "Accuracy after rotation augmentation constrained by  25.19  is  0.6725\n",
            "Accuracy after rotation augmentation constrained by  25.2  is  0.6853\n",
            "Accuracy after rotation augmentation constrained by  25.21  is  0.6801\n",
            "Accuracy after rotation augmentation constrained by  25.22  is  0.6752\n",
            "Accuracy after rotation augmentation constrained by  25.23  is  0.6819\n",
            "Accuracy after rotation augmentation constrained by  25.24  is  0.6843\n",
            "Accuracy after rotation augmentation constrained by  25.25  is  0.6844\n",
            "Accuracy after rotation augmentation constrained by  25.26  is  0.6783\n",
            "Accuracy after rotation augmentation constrained by  25.27  is  0.6814\n",
            "Accuracy after rotation augmentation constrained by  25.28  is  0.6907\n",
            "Accuracy after rotation augmentation constrained by  25.29  is  0.6855\n",
            "Accuracy after rotation augmentation constrained by  25.3  is  0.6746\n",
            "Accuracy after rotation augmentation constrained by  25.31  is  0.6682\n",
            "Accuracy after rotation augmentation constrained by  25.32  is  0.6712\n",
            "Accuracy after rotation augmentation constrained by  25.33  is  0.6754\n",
            "Accuracy after rotation augmentation constrained by  25.34  is  0.6771\n",
            "Accuracy after rotation augmentation constrained by  25.35  is  0.6813\n",
            "Accuracy after rotation augmentation constrained by  25.36  is  0.672\n",
            "Accuracy after rotation augmentation constrained by  25.37  is  0.6798\n",
            "Accuracy after rotation augmentation constrained by  25.38  is  0.6651\n",
            "Accuracy after rotation augmentation constrained by  25.39  is  0.6873\n",
            "Accuracy after rotation augmentation constrained by  25.4  is  0.6798\n",
            "Accuracy after rotation augmentation constrained by  25.41  is  0.6755\n",
            "Accuracy after rotation augmentation constrained by  25.42  is  0.671\n",
            "Accuracy after rotation augmentation constrained by  25.43  is  0.6798\n",
            "Accuracy after rotation augmentation constrained by  25.44  is  0.6834\n",
            "Accuracy after rotation augmentation constrained by  25.45  is  0.6882\n",
            "Accuracy after rotation augmentation constrained by  25.46  is  0.68\n",
            "Accuracy after rotation augmentation constrained by  25.47  is  0.6769\n",
            "Accuracy after rotation augmentation constrained by  25.48  is  0.6721\n",
            "Accuracy after rotation augmentation constrained by  25.49  is  0.6748\n",
            "Accuracy after rotation augmentation constrained by  25.5  is  0.6839\n",
            "Accuracy after rotation augmentation constrained by  25.51  is  0.6763\n",
            "Accuracy after rotation augmentation constrained by  25.52  is  0.6835\n",
            "Accuracy after rotation augmentation constrained by  25.53  is  0.6783\n",
            "Accuracy after rotation augmentation constrained by  25.54  is  0.68\n",
            "Accuracy after rotation augmentation constrained by  25.55  is  0.6816\n",
            "Accuracy after rotation augmentation constrained by  25.56  is  0.6763\n",
            "Accuracy after rotation augmentation constrained by  25.57  is  0.6733\n",
            "Accuracy after rotation augmentation constrained by  25.58  is  0.6816\n",
            "Accuracy after rotation augmentation constrained by  25.59  is  0.6678\n",
            "Accuracy after rotation augmentation constrained by  25.6  is  0.6706\n",
            "Accuracy after rotation augmentation constrained by  25.61  is  0.6759\n",
            "Accuracy after rotation augmentation constrained by  25.62  is  0.6808\n",
            "Accuracy after rotation augmentation constrained by  25.63  is  0.6729\n",
            "Accuracy after rotation augmentation constrained by  25.64  is  0.6846\n",
            "Accuracy after rotation augmentation constrained by  25.65  is  0.674\n",
            "Accuracy after rotation augmentation constrained by  25.66  is  0.6774\n",
            "Accuracy after rotation augmentation constrained by  25.67  is  0.6818\n",
            "Accuracy after rotation augmentation constrained by  25.68  is  0.678\n",
            "Accuracy after rotation augmentation constrained by  25.69  is  0.6823\n",
            "Accuracy after rotation augmentation constrained by  25.7  is  0.6909\n",
            "Accuracy after rotation augmentation constrained by  25.71  is  0.6764\n",
            "Accuracy after rotation augmentation constrained by  25.72  is  0.6804\n",
            "Accuracy after rotation augmentation constrained by  25.73  is  0.6882\n",
            "Accuracy after rotation augmentation constrained by  25.74  is  0.6708\n",
            "Accuracy after rotation augmentation constrained by  25.75  is  0.6735\n",
            "Accuracy after rotation augmentation constrained by  25.76  is  0.6817\n",
            "Accuracy after rotation augmentation constrained by  25.77  is  0.6818\n",
            "Accuracy after rotation augmentation constrained by  25.78  is  0.6865\n",
            "Accuracy after rotation augmentation constrained by  25.79  is  0.6859\n",
            "Accuracy after rotation augmentation constrained by  25.8  is  0.6867\n",
            "Accuracy after rotation augmentation constrained by  25.81  is  0.675\n",
            "Accuracy after rotation augmentation constrained by  25.82  is  0.6801\n",
            "Accuracy after rotation augmentation constrained by  25.83  is  0.6635\n",
            "Accuracy after rotation augmentation constrained by  25.84  is  0.6893\n",
            "Accuracy after rotation augmentation constrained by  25.85  is  0.6772\n",
            "Accuracy after rotation augmentation constrained by  25.86  is  0.6771\n",
            "Accuracy after rotation augmentation constrained by  25.87  is  0.6828\n",
            "Accuracy after rotation augmentation constrained by  25.88  is  0.6832\n",
            "Accuracy after rotation augmentation constrained by  25.89  is  0.6779\n",
            "Accuracy after rotation augmentation constrained by  25.9  is  0.684\n",
            "Accuracy after rotation augmentation constrained by  25.91  is  0.6846\n",
            "Accuracy after rotation augmentation constrained by  25.92  is  0.6816\n",
            "Accuracy after rotation augmentation constrained by  25.93  is  0.676\n",
            "Accuracy after rotation augmentation constrained by  25.94  is  0.673\n",
            "Accuracy after rotation augmentation constrained by  25.95  is  0.6728\n",
            "Accuracy after rotation augmentation constrained by  25.96  is  0.6789\n",
            "Accuracy after rotation augmentation constrained by  25.97  is  0.6804\n",
            "Accuracy after rotation augmentation constrained by  25.98  is  0.68\n",
            "Accuracy after rotation augmentation constrained by  25.99  is  0.6694\n",
            "Accuracy after rotation augmentation constrained by  26.0  is  0.6756\n",
            "Accuracy after rotation augmentation constrained by  26.01  is  0.677\n",
            "Accuracy after rotation augmentation constrained by  26.02  is  0.6811\n",
            "Accuracy after rotation augmentation constrained by  26.03  is  0.6844\n",
            "Accuracy after rotation augmentation constrained by  26.04  is  0.6755\n",
            "Accuracy after rotation augmentation constrained by  26.05  is  0.6758\n",
            "Accuracy after rotation augmentation constrained by  26.06  is  0.6717\n",
            "Accuracy after rotation augmentation constrained by  26.07  is  0.6803\n",
            "Accuracy after rotation augmentation constrained by  26.08  is  0.6736\n",
            "Accuracy after rotation augmentation constrained by  26.09  is  0.6702\n",
            "Accuracy after rotation augmentation constrained by  26.1  is  0.6788\n",
            "Accuracy after rotation augmentation constrained by  26.11  is  0.681\n",
            "Accuracy after rotation augmentation constrained by  26.12  is  0.6754\n",
            "Accuracy after rotation augmentation constrained by  26.13  is  0.6815\n",
            "Accuracy after rotation augmentation constrained by  26.14  is  0.6761\n",
            "Accuracy after rotation augmentation constrained by  26.15  is  0.6808\n",
            "Accuracy after rotation augmentation constrained by  26.16  is  0.6799\n",
            "Accuracy after rotation augmentation constrained by  26.17  is  0.6759\n",
            "Accuracy after rotation augmentation constrained by  26.18  is  0.6826\n",
            "Accuracy after rotation augmentation constrained by  26.19  is  0.6696\n",
            "Accuracy after rotation augmentation constrained by  26.2  is  0.6782\n",
            "Accuracy after rotation augmentation constrained by  26.21  is  0.6901\n",
            "Accuracy after rotation augmentation constrained by  26.22  is  0.6738\n",
            "Accuracy after rotation augmentation constrained by  26.23  is  0.6821\n",
            "Accuracy after rotation augmentation constrained by  26.24  is  0.6847\n",
            "Accuracy after rotation augmentation constrained by  26.25  is  0.6802\n",
            "Accuracy after rotation augmentation constrained by  26.26  is  0.6858\n",
            "Accuracy after rotation augmentation constrained by  26.27  is  0.6782\n",
            "Accuracy after rotation augmentation constrained by  26.28  is  0.6853\n",
            "Accuracy after rotation augmentation constrained by  26.29  is  0.6786\n",
            "Accuracy after rotation augmentation constrained by  26.3  is  0.6732\n",
            "Accuracy after rotation augmentation constrained by  26.31  is  0.6732\n",
            "Accuracy after rotation augmentation constrained by  26.32  is  0.6727\n",
            "Accuracy after rotation augmentation constrained by  26.33  is  0.6818\n",
            "Accuracy after rotation augmentation constrained by  26.34  is  0.6783\n",
            "Accuracy after rotation augmentation constrained by  26.35  is  0.6814\n",
            "Accuracy after rotation augmentation constrained by  26.36  is  0.6785\n",
            "Accuracy after rotation augmentation constrained by  26.37  is  0.6833\n",
            "Accuracy after rotation augmentation constrained by  26.38  is  0.6817\n",
            "Accuracy after rotation augmentation constrained by  26.39  is  0.6849\n",
            "Accuracy after rotation augmentation constrained by  26.4  is  0.6831\n",
            "Accuracy after rotation augmentation constrained by  26.41  is  0.6784\n",
            "Accuracy after rotation augmentation constrained by  26.42  is  0.6811\n",
            "Accuracy after rotation augmentation constrained by  26.43  is  0.6762\n",
            "Accuracy after rotation augmentation constrained by  26.44  is  0.6701\n",
            "Accuracy after rotation augmentation constrained by  26.45  is  0.6776\n",
            "Accuracy after rotation augmentation constrained by  26.46  is  0.6806\n",
            "Accuracy after rotation augmentation constrained by  26.47  is  0.6634\n",
            "Accuracy after rotation augmentation constrained by  26.48  is  0.6766\n",
            "Accuracy after rotation augmentation constrained by  26.49  is  0.6759\n",
            "Accuracy after rotation augmentation constrained by  26.5  is  0.6767\n",
            "Accuracy after rotation augmentation constrained by  26.51  is  0.6809\n",
            "Accuracy after rotation augmentation constrained by  26.52  is  0.6797\n",
            "Accuracy after rotation augmentation constrained by  26.53  is  0.6808\n",
            "Accuracy after rotation augmentation constrained by  26.54  is  0.6742\n",
            "Accuracy after rotation augmentation constrained by  26.55  is  0.6891\n",
            "Accuracy after rotation augmentation constrained by  26.56  is  0.6774\n",
            "Accuracy after rotation augmentation constrained by  26.57  is  0.6737\n",
            "Accuracy after rotation augmentation constrained by  26.58  is  0.6752\n",
            "Accuracy after rotation augmentation constrained by  26.59  is  0.6881\n",
            "Accuracy after rotation augmentation constrained by  26.6  is  0.6793\n",
            "Accuracy after rotation augmentation constrained by  26.61  is  0.6888\n",
            "Accuracy after rotation augmentation constrained by  26.62  is  0.6726\n",
            "Accuracy after rotation augmentation constrained by  26.63  is  0.6876\n",
            "Accuracy after rotation augmentation constrained by  26.64  is  0.6812\n",
            "Accuracy after rotation augmentation constrained by  26.65  is  0.681\n",
            "Accuracy after rotation augmentation constrained by  26.66  is  0.6702\n",
            "Accuracy after rotation augmentation constrained by  26.67  is  0.6833\n",
            "Accuracy after rotation augmentation constrained by  26.68  is  0.6811\n",
            "Accuracy after rotation augmentation constrained by  26.69  is  0.6756\n",
            "Accuracy after rotation augmentation constrained by  26.7  is  0.6793\n"
          ]
        }
      ]
    },
    {
      "cell_type": "markdown",
      "metadata": {
        "id": "2oVDRYP2rxob"
      },
      "source": [
        "Let us see the best value for angle constraint: (Ideally this should be done on validation set, not test set)"
      ]
    },
    {
      "cell_type": "code",
      "metadata": {
        "id": "LqthJa_pmMHz",
        "colab": {
          "base_uri": "https://localhost:8080/",
          "height": 515
        },
        "outputId": "98ab9c6b-b99d-43fc-b368-c70e0f62fbfc"
      },
      "source": [
        "fig = plt.figure()\n",
        "ax = fig.add_axes([0.1, 0.1, 0.8, 0.8]) # main axes\n",
        "# plot the variation of accuracy\n",
        "ax.plot(angleconstraints, accuracies)\n",
        "ax.set_xlabel('angle')\n",
        "ax.set_ylabel('accuracy')\n",
        "# plot the maximum accuracy\n",
        "maxind = np.argmax(accuracies)\n",
        "print(angleconstraints[maxind], accuracies[maxind]*100)\n",
        "print((0.6949*100)-(0.6472*100))\n",
        "plt.scatter(angleconstraints[maxind], accuracies[maxind], c='red')"
      ],
      "execution_count": 86,
      "outputs": [
        {
          "output_type": "stream",
          "name": "stdout",
          "text": [
            "21.2 69.49\n",
            "4.769999999999996\n"
          ]
        },
        {
          "output_type": "execute_result",
          "data": {
            "text/plain": [
              "<matplotlib.collections.PathCollection at 0x78b544625690>"
            ]
          },
          "metadata": {},
          "execution_count": 86
        },
        {
          "output_type": "display_data",
          "data": {
            "text/plain": [
              "<Figure size 640x480 with 1 Axes>"
            ],
            "image/png": "[encoded data removed]"
          },
          "metadata": {}
        }
      ]
    },
    {
      "cell_type": "markdown",
      "metadata": {
        "id": "eJ8YuVfCuGTj"
      },
      "source": [
        "Let us try one more augmentation: shear. Here is what this looks like:"
      ]
    },
    {
      "cell_type": "code",
      "metadata": {
        "id": "pMiw46NLwssK"
      },
      "source": [
        "def shear(sample, amount):\n",
        "  tform = AffineTransform(shear = amount) # create the shear transform\n",
        "  img = warp(sample, tform) # apply the shear\n",
        "  # this makes the digit off-center. Since all the images in the test set are centralized, we will do the same here\n",
        "  col = img.sum(0).nonzero()[0]\n",
        "  row = img.sum(1).nonzero()[0]\n",
        "  if len(col)>0 and len(row)>0:\n",
        "    xshift = int(sample.shape[0]/2 - (row[0]+row[-1])/2)\n",
        "    yshift = int(sample.shape[1]/2 - (col[0]+col[-1])/2)\n",
        "    img = np.roll(img, (xshift, yshift),(0,1))\n",
        "  return img"
      ],
      "execution_count": 11,
      "outputs": []
    },
    {
      "cell_type": "code",
      "metadata": {
        "id": "4_u_EYpmnABK",
        "colab": {
          "base_uri": "https://localhost:8080/",
          "height": 860
        },
        "outputId": "ec540bea-73db-49ae-cb1e-12f97d787703"
      },
      "source": [
        "sample = train_X[2]\n",
        "plt.imshow(sample, cmap='gray')\n",
        "plt.show()\n",
        "\n",
        "# apply shear\n",
        "plt.imshow(shear(sample, 0.4), cmap='gray')"
      ],
      "execution_count": 12,
      "outputs": [
        {
          "output_type": "display_data",
          "data": {
            "text/plain": [
              "<Figure size 640x480 with 1 Axes>"
            ],
            "image/png": "[encoded data removed]"
          },
          "metadata": {}
        },
        {
          "output_type": "execute_result",
          "data": {
            "text/plain": [
              "<matplotlib.image.AxesImage at 0x78b5468bb850>"
            ]
          },
          "metadata": {},
          "execution_count": 12
        },
        {
          "output_type": "display_data",
          "data": {
            "text/plain": [
              "<Figure size 640x480 with 1 Axes>"
            ],
            "image/png": "[encoded data removed]"
          },
          "metadata": {}
        }
      ]
    },
    {
      "cell_type": "markdown",
      "metadata": {
        "id": "lGnWMoyM2pK4"
      },
      "source": [
        "Create an augmentation function which applies a random shear according to the constraint we provide:"
      ]
    },
    {
      "cell_type": "code",
      "metadata": {
        "id": "-qLDJyGytwP5"
      },
      "source": [
        "def augShear(sample, shearconstraint):\n",
        "  if shearconstraint==0:\n",
        "    return sample\n",
        "  if len(sample.shape)==2:\n",
        "    sample = np.expand_dims(sample, 0)  # make sure the sample is 3 dimensional\n",
        "  amt = rng.random(len(sample)) # generate random numbers for shear\n",
        "  amt = (amt-0.5)*shearconstraint # make the random shear constrained\n",
        "  nsample = sample.copy() # preallocate the augmented array to make it faster\n",
        "  for ii in range(len(sample)):\n",
        "    nsample[ii] = shear(sample[ii], amt[ii])\n",
        "  return np.squeeze(nsample) # take care if the input had only one sample."
      ],
      "execution_count": 13,
      "outputs": []
    },
    {
      "cell_type": "code",
      "source": [
        "shearconstraints = [x/100 for x in range(0,100)] # the values we want to test\n",
        "print(len(shearconstraints))\n",
        "accuracies = np.zeros(len(shearconstraints), dtype=np.float)\n",
        "print(len(accuracies))"
      ],
      "metadata": {
        "colab": {
          "base_uri": "https://localhost:8080/"
        },
        "id": "oKP0zC1xDDRa",
        "outputId": "1472ce5c-48e9-4de2-e82e-12278580f3d2"
      },
      "execution_count": 72,
      "outputs": [
        {
          "output_type": "stream",
          "name": "stdout",
          "text": [
            "100\n",
            "100\n"
          ]
        },
        {
          "output_type": "stream",
          "name": "stderr",
          "text": [
            "<ipython-input-72-04f5f94f4477>:3: DeprecationWarning: `np.float` is a deprecated alias for the builtin `float`. To silence this warning, use `float` by itself. Doing this will not modify any behavior and is safe. If you specifically wanted the numpy scalar type, use `np.float64` here.\n",
            "Deprecated in NumPy 1.20; for more details and guidance: https://numpy.org/devdocs/release/1.20.0-notes.html#deprecations\n",
            "  accuracies = np.zeros(len(shearconstraints), dtype=np.float)\n"
          ]
        }
      ]
    },
    {
      "cell_type": "markdown",
      "metadata": {
        "id": "s6lQcWW93suJ"
      },
      "source": [
        "Let us do a grid search to find the best shear constraint."
      ]
    },
    {
      "cell_type": "code",
      "metadata": {
        "id": "l_wrqPkrzBb_"
      },
      "source": [
        "shearconstraints = [x/1000 for x in range(0,1000)] # the values we want to test\n",
        "print(len(shearconstraints))\n",
        "accuracies = np.zeros(len(shearconstraints), dtype=np.float) # we will save the values here\n",
        "\n",
        "for ii in range(len(shearconstraints)):\n",
        "  # create the augmented dataset\n",
        "  augdata = train_X # we include the original images also in the augmented dataset\n",
        "  auglabel = train_y\n",
        "  for jj in range(naugmentations):\n",
        "    augdata = np.concatenate((augdata, augShear(train_X, shearconstraints[ii]))) # concatenate the augmented data to the set\n",
        "    auglabel = np.concatenate((auglabel, train_y))  # the labels don't change when we augment\n",
        "\n",
        "  # check the test accuracy\n",
        "  testpred = NN(augdata, auglabel, test_X)\n",
        "  accuracies[ii] = Accuracy(test_y, testpred)\n",
        "  print('Accuracy after shear augmentation constrained by ',shearconstraints[ii], ' is ', accuracies[ii], flush=True)"
      ],
      "execution_count": null,
      "outputs": []
    },
    {
      "cell_type": "code",
      "source": [
        "print(np.argmax(accuracies))"
      ],
      "metadata": {
        "colab": {
          "base_uri": "https://localhost:8080/"
        },
        "id": "yOSgvOxn9LnI",
        "outputId": "93f41dfa-bd9c-436b-beb7-ef014732f23d"
      },
      "execution_count": 80,
      "outputs": [
        {
          "output_type": "stream",
          "name": "stdout",
          "text": [
            "86\n"
          ]
        }
      ]
    },
    {
      "cell_type": "code",
      "metadata": {
        "id": "EKaH-YR-zVnA",
        "colab": {
          "base_uri": "https://localhost:8080/",
          "height": 515
        },
        "outputId": "df3528f8-2ce4-452b-fd88-c435f8ae5e3f"
      },
      "source": [
        "fig = plt.figure()\n",
        "ax = fig.add_axes([0.1,0.1,0.8,0.8]) # main axes\n",
        "# plot the variation of accuracy\n",
        "ax.plot(shearconstraints, accuracies)\n",
        "ax.set_xlabel('angle')\n",
        "ax.set_ylabel('accuracy')\n",
        "# plot the maximum accuracy\n",
        "maxind = np.argmax(accuracies)\n",
        "print(maxind)\n",
        "print(shearconstraints[maxind], accuracies[maxind]*100)\n",
        "plt.scatter(shearconstraints[maxind], accuracies[maxind], c='red')"
      ],
      "execution_count": 81,
      "outputs": [
        {
          "output_type": "stream",
          "name": "stdout",
          "text": [
            "86\n",
            "0.86 66.24\n"
          ]
        },
        {
          "output_type": "execute_result",
          "data": {
            "text/plain": [
              "<matplotlib.collections.PathCollection at 0x78b5447f2620>"
            ]
          },
          "metadata": {},
          "execution_count": 81
        },
        {
          "output_type": "display_data",
          "data": {
            "text/plain": [
              "<Figure size 640x480 with 1 Axes>"
            ],
            "image/png": "[encoded data removed]"
          },
          "metadata": {}
        }
      ]
    },
    {
      "cell_type": "markdown",
      "metadata": {
        "id": "ccfdbRcQ7Zgg"
      },
      "source": [
        "We can do multiple augmentations at the same time. Here is a function to do both shear and rotation to the sample. In this case, we will have two hyperparameters."
      ]
    },
    {
      "cell_type": "code",
      "metadata": {
        "id": "sh8S_Pxa0XCv"
      },
      "source": [
        "def augRotateShear(sample, angleconstraint, shearconstraint):\n",
        "  if len(sample.shape)==2:\n",
        "    sample = np.expand_dims(sample, 0)  # make sure the sample is 3 dimensional\n",
        "  amt = rng.random(len(sample)) # generate random numbers for shear\n",
        "  amt = (amt-0.5)*shearconstraint # make the random shear constrained\n",
        "  angle = rng.random(len(sample)) # generate random numbers for angles\n",
        "  angle = (angle-0.5)*angleconstraint # make the random angle constrained\n",
        "  nsample = sample.copy() # preallocate the augmented array to make it faster\n",
        "  for ii in range(len(sample)):\n",
        "    nsample[ii] = rotate(shear(sample[ii], amt[ii]), angle[ii]) # first apply shear, then rotate\n",
        "  return np.squeeze(nsample) # take care if the input had only one sample."
      ],
      "execution_count": 16,
      "outputs": []
    },
    {
      "cell_type": "markdown",
      "metadata": {
        "id": "OGKyjjNx-NQ4"
      },
      "source": [
        "Since we have two hyperparameters, we have to do the grid search on a 2 dimensional matrix. We can use our previous experience to inform where to search for the best hyperparameters."
      ]
    },
    {
      "cell_type": "code",
      "metadata": {
        "id": "TJC45WRg0pOP",
        "colab": {
          "base_uri": "https://localhost:8080/"
        },
        "outputId": "51d42ccb-9d8f-4c44-a860-c0f879ee37df"
      },
      "source": [
        "shearconstraints = [0, 0.2,0.4,0.6,0.8,1.0,1.2,1.4,1.6] # the values we want to test\n",
        "angleconstraints = [0,10,20,30,40,50,60] # the values we want to test\n",
        "hyp = cartesian((shearconstraints, angleconstraints)) # cartesian product of both\n",
        "\n",
        "accuracies = np.zeros(len(hyp), dtype=np.float) # we will save the values here\n",
        "\n",
        "for ii in range(len(hyp)):\n",
        "  # create the augmented dataset\n",
        "  augdata = train_X # we include the original images also in the augmented dataset\n",
        "  auglabel = train_y\n",
        "  for jj in range(naugmentations):\n",
        "    augdata = np.concatenate((augdata, augRotateShear(train_X, hyp[ii][0], hyp[ii][1]))) # concatenate the augmented data to the set\n",
        "    auglabel = np.concatenate((auglabel, train_y))  # the labels don't change when we augment\n",
        "\n",
        "  # check the test accuracy\n",
        "  testpred = NN(augdata, auglabel, test_X)\n",
        "  accuracies[ii] = Accuracy(test_y, testpred)\n",
        "  print('Accuracy after augmentation shear:',hyp[ii][0], 'angle:',hyp[ii][1], ' is ', accuracies[ii], flush=True)"
      ],
      "execution_count": 17,
      "outputs": [
        {
          "output_type": "stream",
          "name": "stderr",
          "text": [
            "<ipython-input-17-09de780976d0>:5: DeprecationWarning: `np.float` is a deprecated alias for the builtin `float`. To silence this warning, use `float` by itself. Doing this will not modify any behavior and is safe. If you specifically wanted the numpy scalar type, use `np.float64` here.\n",
            "Deprecated in NumPy 1.20; for more details and guidance: https://numpy.org/devdocs/release/1.20.0-notes.html#deprecations\n",
            "  accuracies = np.zeros(len(hyp), dtype=np.float) # we will save the values here\n"
          ]
        },
        {
          "output_type": "stream",
          "name": "stdout",
          "text": [
            "Accuracy after augmentation shear: 0.0 angle: 0.0  is  0.6332\n",
            "Accuracy after augmentation shear: 0.0 angle: 10.0  is  0.6151\n",
            "Accuracy after augmentation shear: 0.0 angle: 20.0  is  0.5997\n",
            "Accuracy after augmentation shear: 0.0 angle: 30.0  is  0.5915\n",
            "Accuracy after augmentation shear: 0.0 angle: 40.0  is  0.6198\n",
            "Accuracy after augmentation shear: 0.0 angle: 50.0  is  0.6031\n",
            "Accuracy after augmentation shear: 0.0 angle: 60.0  is  0.5916\n",
            "Accuracy after augmentation shear: 0.2 angle: 0.0  is  0.634\n",
            "Accuracy after augmentation shear: 0.2 angle: 10.0  is  0.5991\n",
            "Accuracy after augmentation shear: 0.2 angle: 20.0  is  0.6044\n",
            "Accuracy after augmentation shear: 0.2 angle: 30.0  is  0.6358\n",
            "Accuracy after augmentation shear: 0.2 angle: 40.0  is  0.5827\n",
            "Accuracy after augmentation shear: 0.2 angle: 50.0  is  0.579\n",
            "Accuracy after augmentation shear: 0.2 angle: 60.0  is  0.5877\n",
            "Accuracy after augmentation shear: 0.4 angle: 0.0  is  0.6344\n",
            "Accuracy after augmentation shear: 0.4 angle: 10.0  is  0.6151\n",
            "Accuracy after augmentation shear: 0.4 angle: 20.0  is  0.5988\n",
            "Accuracy after augmentation shear: 0.4 angle: 30.0  is  0.6107\n",
            "Accuracy after augmentation shear: 0.4 angle: 40.0  is  0.6177\n",
            "Accuracy after augmentation shear: 0.4 angle: 50.0  is  0.5855\n",
            "Accuracy after augmentation shear: 0.4 angle: 60.0  is  0.5893\n",
            "Accuracy after augmentation shear: 0.6 angle: 0.0  is  0.6339\n",
            "Accuracy after augmentation shear: 0.6 angle: 10.0  is  0.6191\n",
            "Accuracy after augmentation shear: 0.6 angle: 20.0  is  0.595\n",
            "Accuracy after augmentation shear: 0.6 angle: 30.0  is  0.5963\n",
            "Accuracy after augmentation shear: 0.6 angle: 40.0  is  0.6203\n",
            "Accuracy after augmentation shear: 0.6 angle: 50.0  is  0.5859\n",
            "Accuracy after augmentation shear: 0.6 angle: 60.0  is  0.6094\n",
            "Accuracy after augmentation shear: 0.8 angle: 0.0  is  0.6354\n",
            "Accuracy after augmentation shear: 0.8 angle: 10.0  is  0.6208\n",
            "Accuracy after augmentation shear: 0.8 angle: 20.0  is  0.5928\n",
            "Accuracy after augmentation shear: 0.8 angle: 30.0  is  0.5875\n",
            "Accuracy after augmentation shear: 0.8 angle: 40.0  is  0.6242\n",
            "Accuracy after augmentation shear: 0.8 angle: 50.0  is  0.5796\n",
            "Accuracy after augmentation shear: 0.8 angle: 60.0  is  0.5947\n",
            "Accuracy after augmentation shear: 1.0 angle: 0.0  is  0.6334\n",
            "Accuracy after augmentation shear: 1.0 angle: 10.0  is  0.6178\n",
            "Accuracy after augmentation shear: 1.0 angle: 20.0  is  0.6074\n",
            "Accuracy after augmentation shear: 1.0 angle: 30.0  is  0.5934\n",
            "Accuracy after augmentation shear: 1.0 angle: 40.0  is  0.6199\n",
            "Accuracy after augmentation shear: 1.0 angle: 50.0  is  0.5865\n",
            "Accuracy after augmentation shear: 1.0 angle: 60.0  is  0.5952\n",
            "Accuracy after augmentation shear: 1.2 angle: 0.0  is  0.6328\n",
            "Accuracy after augmentation shear: 1.2 angle: 10.0  is  0.5727\n",
            "Accuracy after augmentation shear: 1.2 angle: 20.0  is  0.617\n",
            "Accuracy after augmentation shear: 1.2 angle: 30.0  is  0.5852\n",
            "Accuracy after augmentation shear: 1.2 angle: 40.0  is  0.5813\n",
            "Accuracy after augmentation shear: 1.2 angle: 50.0  is  0.587\n",
            "Accuracy after augmentation shear: 1.2 angle: 60.0  is  0.6195\n",
            "Accuracy after augmentation shear: 1.4 angle: 0.0  is  0.6344\n",
            "Accuracy after augmentation shear: 1.4 angle: 10.0  is  0.6069\n",
            "Accuracy after augmentation shear: 1.4 angle: 20.0  is  0.601\n",
            "Accuracy after augmentation shear: 1.4 angle: 30.0  is  0.5848\n",
            "Accuracy after augmentation shear: 1.4 angle: 40.0  is  0.6005\n",
            "Accuracy after augmentation shear: 1.4 angle: 50.0  is  0.6045\n",
            "Accuracy after augmentation shear: 1.4 angle: 60.0  is  0.6129\n",
            "Accuracy after augmentation shear: 1.6 angle: 0.0  is  0.6369\n",
            "Accuracy after augmentation shear: 1.6 angle: 10.0  is  0.6097\n",
            "Accuracy after augmentation shear: 1.6 angle: 20.0  is  0.6078\n",
            "Accuracy after augmentation shear: 1.6 angle: 30.0  is  0.6048\n",
            "Accuracy after augmentation shear: 1.6 angle: 40.0  is  0.585\n",
            "Accuracy after augmentation shear: 1.6 angle: 50.0  is  0.5915\n",
            "Accuracy after augmentation shear: 1.6 angle: 60.0  is  0.5941\n"
          ]
        }
      ]
    },
    {
      "cell_type": "markdown",
      "metadata": {
        "id": "PT6CnvSDEX7a"
      },
      "source": [
        "Let us plot it two dimensionally to see which is the best value for the hyperparameters:"
      ]
    },
    {
      "cell_type": "code",
      "metadata": {
        "id": "jD2i7msI_cLd",
        "colab": {
          "base_uri": "https://localhost:8080/",
          "height": 481
        },
        "outputId": "24051c79-3921-4d4a-feb1-96d03cc8ff3e"
      },
      "source": [
        "fig = plt.figure()\n",
        "ax = fig.add_axes([0.1, 0.1, 0.8, 0.8]) # main axes\n",
        "im = ax.imshow(accuracies.reshape((len(shearconstraints), len(angleconstraints))), cmap='inferno')\n",
        "ax.set_xlabel('angle')\n",
        "ax.set_ylabel('shear')\n",
        "ax.set_xticks(np.arange(len(angleconstraints)));\n",
        "ax.set_xticklabels(angleconstraints);\n",
        "ax.set_yticks(np.arange(len(shearconstraints)));\n",
        "ax.set_yticklabels(shearconstraints);\n",
        "plt.colorbar(im)"
      ],
      "execution_count": 18,
      "outputs": [
        {
          "output_type": "execute_result",
          "data": {
            "text/plain": [
              "<matplotlib.colorbar.Colorbar at 0x78b5466625f0>"
            ]
          },
          "metadata": {},
          "execution_count": 18
        },
        {
          "output_type": "display_data",
          "data": {
            "text/plain": [
              "<Figure size 640x480 with 2 Axes>"
            ],
            "image/png": "[encoded data removed]"
          },
          "metadata": {}
        }
      ]
    },
    {
      "cell_type": "markdown",
      "metadata": {
        "id": "OHcZWJiFJDMh"
      },
      "source": [
        "It seems that rotation and shear don't mix! The best accuracy is when rotation is zero."
      ]
    },
    {
      "cell_type": "markdown",
      "metadata": {
        "id": "PAasQo1C3x4A"
      },
      "source": [
        "## Questions\n",
        "Try these questions for better understanding. You may not be able to solve all of them.\n",
        "1. What is the best value for angle constraint and shear constraint you got? How much did the accuracy improve as compared to not using augmentations?\n",
        "2. Can you increase the accuracy by increasing the number of augmentations from each sample?\n",
        "3. Try implementing a few augmentations of your own and experimenting with them. A good reference is <a href=https://www.analyticsvidhya.com/blog/2019/12/image-augmentation-deep-learning-pytorch/>here. </a>\n",
        "4. Try combining various augmentations. What is the highest accuracy you can get? What is the smallest training dataset you can take and still get accuracy above 50%?\n",
        "\n",
        "Whenever you do any experiment, a good practice is to vary the hyperparameters gradually and create a graph of your results, like we did for gridsearch."
      ]
    },
    {
      "cell_type": "markdown",
      "source": [
        "1.Angle constraint best value-21.2 with an accuracy of 0.6949\n",
        "\n",
        "Without augumentations the accuracy was 0.6472\n",
        "\n",
        "Shear constraint best value-0.86 with an 0.6624\n",
        "\n",
        "2.Yes,the accuracy increases.\n",
        "\n",
        "4.The smallest percent of data we can take and still get the accuracy above 50 is around 60 percent."
      ],
      "metadata": {
        "id": "VBSmLqU8vYZz"
      }
    }
  ]
}